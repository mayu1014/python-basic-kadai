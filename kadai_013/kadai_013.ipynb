{
  "nbformat": 4,
  "nbformat_minor": 0,
  "metadata": {
    "colab": {
      "provenance": []
    },
    "kernelspec": {
      "name": "python3",
      "display_name": "Python 3"
    },
    "language_info": {
      "name": "python"
    }
  },
  "cells": [
    {
      "cell_type": "code",
      "execution_count": 1,
      "metadata": {
        "colab": {
          "base_uri": "https://localhost:8080/"
        },
        "id": "VuLvzdNS83iD",
        "outputId": "8ecd16f0-567d-431a-ac30-069b6089a9c9"
      },
      "outputs": [
        {
          "output_type": "stream",
          "name": "stdout",
          "text": [
            "121.00000000000001円\n"
          ]
        }
      ],
      "source": [
        "def result(price, consumptiontax_percent):\n",
        "    # パーセントを小数に変換（例：10 → 0.10）\n",
        "    consumptiontax = consumptiontax_percent / 100\n",
        "    total = price * (1 + consumptiontax)\n",
        "    return total  # 戻り値として合計金額を返す\n",
        "\n",
        "# 関数を呼び出して戻り値を変数に代入\n",
        "total_price = result(110, 10)\n",
        "\n",
        "# 戻り値を使って別の処理を行う（例：表示）\n",
        "print(f\"{total_price}円\")\n"
      ]
    }
  ]
}