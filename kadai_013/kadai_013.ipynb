{
  "nbformat": 4,
  "nbformat_minor": 0,
  "metadata": {
    "colab": {
      "provenance": []
    },
    "kernelspec": {
      "name": "python3",
      "display_name": "Python 3"
    },
    "language_info": {
      "name": "python"
    }
  },
  "cells": [
    {
      "cell_type": "code",
      "execution_count": 10,
      "metadata": {
        "colab": {
          "base_uri": "https://localhost:8080/"
        },
        "id": "22WXFURkwcCi",
        "outputId": "c5ea07a2-fcdd-47e3-9be0-91f6e876fa02"
      },
      "outputs": [
        {
          "output_type": "stream",
          "name": "stdout",
          "text": [
            "121.00000000000001円\n"
          ]
        }
      ],
      "source": [
        "def result(price,consumptiontax):\n",
        "\n",
        "  total = price * (1 + consumptiontax)\n",
        "\n",
        "  print(f\"{total}円\")\n",
        "\n",
        "result(110,0.1)"
      ]
    }
  ]
}