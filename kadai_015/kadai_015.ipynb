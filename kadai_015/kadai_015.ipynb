{
  "nbformat": 4,
  "nbformat_minor": 0,
  "metadata": {
    "colab": {
      "provenance": []
    },
    "kernelspec": {
      "name": "python3",
      "display_name": "Python 3"
    },
    "language_info": {
      "name": "python"
    }
  },
  "cells": [
    {
      "cell_type": "code",
      "execution_count": 4,
      "metadata": {
        "colab": {
          "base_uri": "https://localhost:8080/"
        },
        "id": "0vk2PWmwkWwC",
        "outputId": "7d7d463c-8de4-46d0-b1ab-f492176299ed"
      },
      "outputs": [
        {
          "output_type": "stream",
          "name": "stdout",
          "text": [
            "太郎 25\n"
          ]
        }
      ],
      "source": [
        "class Human:\n",
        "    def __init__(self, name, age):\n",
        "        self.name = name\n",
        "        self.age = age\n",
        "\n",
        "    def printinfo(self):\n",
        "        print(self.name, self.age)\n",
        "\n",
        "# Humanクラスのインスタンスを作成し、変数に代入\n",
        "person = Human(\"太郎\", 25)\n",
        "\n",
        "# 情報を出力\n",
        "person.printinfo()\n"
      ]
    }
  ]
}