{
  "nbformat": 4,
  "nbformat_minor": 0,
  "metadata": {
    "colab": {
      "provenance": []
    },
    "kernelspec": {
      "name": "python3",
      "display_name": "Python 3"
    },
    "language_info": {
      "name": "python"
    }
  },
  "cells": [
    {
      "cell_type": "code",
      "execution_count": 1,
      "metadata": {
        "colab": {
          "base_uri": "https://localhost:8080/"
        },
        "id": "XxIMKTTUUF1U",
        "outputId": "e9cefa34-6304-4259-9df2-f9b44e414b82"
      },
      "outputs": [
        {
          "output_type": "stream",
          "name": "stdout",
          "text": [
            "75.0cm²\n"
          ]
        }
      ],
      "source": [
        "zyouhen = 10\n",
        "kahen = 20\n",
        "takasa = 5\n",
        "\n",
        "result=str((zyouhen + kahen) * takasa / 2) + \"cm²\"\n",
        "\n",
        "print(result)"
      ]
    }
  ]
}