{
  "nbformat": 4,
  "nbformat_minor": 0,
  "metadata": {
    "colab": {
      "provenance": []
    },
    "kernelspec": {
      "name": "python3",
      "display_name": "Python 3"
    },
    "language_info": {
      "name": "python"
    }
  },
  "cells": [
    {
      "cell_type": "code",
      "execution_count": 1,
      "metadata": {
        "colab": {
          "base_uri": "https://localhost:8080/"
        },
        "id": "XxIMKTTUUF1U",
        "outputId": "9e2b1072-07a7-4b05-dba7-df025566dcfa"
      },
      "outputs": [
        {
          "output_type": "stream",
          "name": "stdout",
          "text": [
            "75.0㎠\n"
          ]
        }
      ],
      "source": [
        "zyouhen = 10\n",
        "kahen = 20\n",
        "takasa = 5\n",
        "\n",
        "result=str((zyouhen + kahen) * takasa / 2) + \"㎠\"\n",
        "\n",
        "print(result)"
      ]
    }
  ]
}