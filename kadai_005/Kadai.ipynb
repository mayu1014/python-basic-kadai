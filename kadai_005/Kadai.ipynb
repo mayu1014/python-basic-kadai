{
  "nbformat": 4,
  "nbformat_minor": 0,
  "metadata": {
    "colab": {
      "provenance": []
    },
    "kernelspec": {
      "name": "python3",
      "display_name": "Python 3"
    },
    "language_info": {
      "name": "python"
    }
  },
  "cells": [
    {
      "cell_type": "code",
      "execution_count": 4,
      "metadata": {
        "colab": {
          "base_uri": "https://localhost:8080/"
        },
        "id": "XxIMKTTUUF1U",
        "outputId": "b317cbaf-9c2e-4771-b161-56ab458192bd"
      },
      "outputs": [
        {
          "output_type": "stream",
          "name": "stdout",
          "text": [
            "75.0cm²\n"
          ]
        }
      ],
      "source": [
        "zyouhen = 10\n",
        "kahen = 20\n",
        "takasa = 5\n",
        "\n",
        "result=(zyouhen + kahen) * takasa / 2\n",
        "\n",
        "print(str(result)  + \"cm²\")"
      ]
    }
  ]
}